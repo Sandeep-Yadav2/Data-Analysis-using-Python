{
  "nbformat": 4,
  "nbformat_minor": 0,
  "metadata": {
    "colab": {
      "name": "Onebanc_Assignment.ipynb",
      "provenance": [],
      "collapsed_sections": []
    },
    "kernelspec": {
      "name": "python3",
      "display_name": "Python 3"
    }
  },
  "cells": [
    {
      "cell_type": "code",
      "metadata": {
        "id": "rMNNW1WGss1d"
      },
      "source": [
        "import pandas as pd\r\n",
        "import numpy as np\r\n"
      ],
      "execution_count": 81,
      "outputs": []
    },
    {
      "cell_type": "markdown",
      "metadata": {
        "id": "EhyntIuj6ghn"
      },
      "source": [
        "LOADING THE DATA FROM DRIVE"
      ]
    },
    {
      "cell_type": "code",
      "metadata": {
        "id": "8gvQ_JQjtvRa"
      },
      "source": [
        "data=pd.read_csv('/content/drive/MyDrive/Onebanc Assignment/CleanStatements.csv')\r\n",
        "#data=pd.read_csv(\"CleanStatements.csv\")\r\n"
      ],
      "execution_count": 82,
      "outputs": []
    },
    {
      "cell_type": "markdown",
      "metadata": {
        "id": "1xVxwfQI6t_a"
      },
      "source": [
        "**SAW FEW ROWS OF DATA** "
      ]
    },
    {
      "cell_type": "code",
      "metadata": {
        "colab": {
          "base_uri": "https://localhost:8080/"
        },
        "id": "uvODa9p-uNW2",
        "outputId": "6581a76b-3b8d-4e0e-976b-c91c4737174f"
      },
      "source": [
        "print(data.head())"
      ],
      "execution_count": 83,
      "outputs": [
        {
          "output_type": "stream",
          "text": [
            "         Date                     Description  ...    State Country\n",
            "0  12-12-2019  THE ROOM               GURGAON  ...  Haryana   India\n",
            "1  12-12-2019            CUT AND STYLEGURGAON  ...  Haryana   India\n",
            "2  12-12-2019                   MUMUSOGURGAON  ...  Haryana   India\n",
            "3  12-12-2019  THE ROOM               GURGAON  ...  Haryana   India\n",
            "4  12-12-2019  THE ROOM               GURGAON  ...  Haryana   India\n",
            "\n",
            "[5 rows x 12 columns]\n"
          ],
          "name": "stdout"
        }
      ]
    },
    {
      "cell_type": "markdown",
      "metadata": {
        "id": "JqcMMpLQ6n2N"
      },
      "source": [
        "## **INFORMATION ABOUT OUR DATASET**"
      ]
    },
    {
      "cell_type": "code",
      "metadata": {
        "colab": {
          "base_uri": "https://localhost:8080/"
        },
        "id": "Fa4YPC3Z6A1e",
        "outputId": "29772b33-6303-497b-a5ba-a129c780c452"
      },
      "source": [
        "print(data.info())"
      ],
      "execution_count": 84,
      "outputs": [
        {
          "output_type": "stream",
          "text": [
            "<class 'pandas.core.frame.DataFrame'>\n",
            "RangeIndex: 1748 entries, 0 to 1747\n",
            "Data columns (total 12 columns):\n",
            " #   Column                        Non-Null Count  Dtype  \n",
            "---  ------                        --------------  -----  \n",
            " 0   Date                          1748 non-null   object \n",
            " 1   Description                   1747 non-null   object \n",
            " 2   InternationTransactionAmount  1748 non-null   float64\n",
            " 3   Category                      1141 non-null   object \n",
            " 4   Amount                        1748 non-null   float64\n",
            " 5   TransactionUserName           1748 non-null   object \n",
            " 6   TransactionType               1748 non-null   object \n",
            " 7   IsoCurrency                   1748 non-null   object \n",
            " 8   Locality                      1523 non-null   object \n",
            " 9   City                          1493 non-null   object \n",
            " 10  State                         1464 non-null   object \n",
            " 11  Country                       1533 non-null   object \n",
            "dtypes: float64(2), object(10)\n",
            "memory usage: 164.0+ KB\n",
            "None\n"
          ],
          "name": "stdout"
        }
      ]
    },
    {
      "cell_type": "markdown",
      "metadata": {
        "id": "Kb0Bw6026_V5"
      },
      "source": [
        "**MISSING VALUES IN DATA**"
      ]
    },
    {
      "cell_type": "code",
      "metadata": {
        "colab": {
          "base_uri": "https://localhost:8080/"
        },
        "id": "rNN45YUL7Gqd",
        "outputId": "2ebd8da3-c9f7-45b8-fa05-30f5bf11d57c"
      },
      "source": [
        "#for missing value in Internaation transaction amount\r\n",
        "print(\"missing value in transaction internation=\",data.iloc[:,2].isnull().sum())"
      ],
      "execution_count": 85,
      "outputs": [
        {
          "output_type": "stream",
          "text": [
            "missing value in transaction internation= 0\n"
          ],
          "name": "stdout"
        }
      ]
    },
    {
      "cell_type": "code",
      "metadata": {
        "colab": {
          "base_uri": "https://localhost:8080/"
        },
        "id": "sSLkXmMF8BSH",
        "outputId": "6150c54f-f527-4985-9c3f-77766f2208d1"
      },
      "source": [
        "print(\"missing value in category=\",data.iloc[:,3].isnull().sum())"
      ],
      "execution_count": 86,
      "outputs": [
        {
          "output_type": "stream",
          "text": [
            "missing value in category= 607\n"
          ],
          "name": "stdout"
        }
      ]
    },
    {
      "cell_type": "code",
      "metadata": {
        "id": "DSCM7ekR9M4G",
        "colab": {
          "base_uri": "https://localhost:8080/"
        },
        "outputId": "2127f86f-e86c-411f-b642-2b4334729ae4"
      },
      "source": [
        "#how many category in category\r\n",
        "category=data.iloc[:,3].unique().tolist()\r\n",
        "print(category)"
      ],
      "execution_count": 87,
      "outputs": [
        {
          "output_type": "stream",
          "text": [
            "['Video game', 'Occupation', nan, 'E-commerce company', 'City in India', 'Cafe company', 'New York City borough', 'Plants', 'Hotel brand', 'Electronics retail company', 'Ridesharing company', '1988 film', 'Company', 'Indian actress', 'American television program', 'City in California', 'Band', 'Health care company', 'Language family', 'Fictional character', 'Restaurant company', 'City in New York', 'Cinema company', 'American minister', 'City in the island of Montreal', 'Song by Drew Seeley', 'American actor', 'Dish', 'Canadian model', '2015 film', 'Radio station', 'Animal', 'Fast food company', 'Political party', 'Retail company', 'Telecommunications company', 'Unit of speed', 'Novel by Jules Verne', 'Former Chief Minister of Uttar Pradesh', 'Corporation', 'Massif in Nepal', 'Dog breed', 'Insurance company', 'Italian region', 'Novel by Jane Austen', 'Coffeehouse company', 'Event', 'Fast food restaurant company', 'Department store company', 'Poem by Tulsidas', 'Indian researcher', 'Building function', 'Clothing retail company', 'International airline', 'Private club', 'Town in Hokkaido', 'American football team', 'Heavy bomber', 'Field of study', 'Politician', 'Algae', 'Online food ordering company', 'Federal agency', 'Comedian', 'Indian actor', 'Entertainment company', 'Mobile phone', 'City in Algeria', 'Place of worship in Kiev', 'Hospitality company', 'Ethno-linguistic group', 'American actress', 'Pasta', 'Fashion company', 'Album by The Beach Boys', 'Cocktail', 'Architectural style', 'Chemical compound', 'Hotel company', 'State of India', 'Canadian singer-songwriter', 'Railway company', 'Capital of the USA', 'Book by Alan Beaulieu', 'Former President of South Africa', 'Hardware store company', 'Food', 'Multinational conglomerate company', 'Novel by Tamsyn Muir', 'Song by Queen', 'Production company', 'Book by Eric Carle', 'Broadcast genre', 'Television series', 'Airline', 'Cosmetics company', 'Mobile network provider company', 'Newspaper', 'Profession', 'Hotel chain', 'Theatre in Taunton', 'American sitcom', 'Book by A. C. Bhaktivedanta Swami Prabhupada', 'VFX company', 'Member of parliament', 'Operation', 'Nightclub', 'Indian television actor', 'Film director', 'US State', '1993 film', 'German singer', 'Legislator', 'Continent', 'Former Governor General of Canada', '1976 film', 'Song', 'Indian film actor', 'Indian language', 'Baseball team', 'City in Spain', 'Board of education in India', 'Book by Jean Ferris', 'Indian revolutionary', 'Car manufacturer', 'Book by Tavleen Singh', 'American-German model', 'Fungus', 'American singer-songwriter', 'Street in London', 'Song by 4Joy', 'Indian playback singer', 'Hypermarket company', 'American director', 'Unit of time', 'Palace in Jaipur', 'Retail chain company', '2018 film', 'Multi-level marketing company', 'Sports club', '1984 film', 'Book by Rudyard Kipling', 'Indian union territory', '1974 film', 'Discount store company', '2017 film', 'Book by Thomas Sowell', '2014 film', 'Guerrilla war', 'State-owned enterprise', 'Indian drama series', 'Chemical element', 'American film actress', '1967 film', 'Song by Devi', 'Television channel', 'Landform', 'Novel by Jonathan Maberry', 'Festivity', 'Broadcasting service', 'Furniture retail company', 'Footballer', 'Visual art form', '1989 film', 'Automotive marque', 'Song by Chris Costanzo', 'Film series', 'Oceanic trench', 'Malaysian footballer', 'Technology company', 'Song by Rhye', 'King', 'Indian businessman', 'Song by The Botherers', 'Indian teacher', 'Guru', 'Indian cricketer', 'Television company', 'Agency', 'Medication', '2001 film', 'Supermarket company', 'Novel by Lewis Carroll', 'Actor', 'City in Japan']\n"
          ],
          "name": "stdout"
        }
      ]
    },
    {
      "cell_type": "code",
      "metadata": {
        "colab": {
          "base_uri": "https://localhost:8080/"
        },
        "id": "EQV89mUPuwUa",
        "outputId": "db19b3f8-5590-4729-d544-96d72158f50a"
      },
      "source": [
        "print(data.iloc[:,3].nunique())"
      ],
      "execution_count": 88,
      "outputs": [
        {
          "output_type": "stream",
          "text": [
            "184\n"
          ],
          "name": "stdout"
        }
      ]
    },
    {
      "cell_type": "markdown",
      "metadata": {
        "id": "BDQW0Q6eNHrb"
      },
      "source": [
        "**Copy the objects type of data into new copy_data for treating the missing values**"
      ]
    },
    {
      "cell_type": "code",
      "metadata": {
        "id": "G5W9rflTyIN3"
      },
      "source": [
        "copy_data=data.select_dtypes(include=['object','float']).copy()"
      ],
      "execution_count": 89,
      "outputs": []
    },
    {
      "cell_type": "code",
      "metadata": {
        "colab": {
          "base_uri": "https://localhost:8080/"
        },
        "id": "zYcxA52m8vH8",
        "outputId": "55830294-3df3-4fa3-e061-73491336a7a4"
      },
      "source": [
        "print(copy_data.head())"
      ],
      "execution_count": 90,
      "outputs": [
        {
          "output_type": "stream",
          "text": [
            "         Date                     Description  ...    State Country\n",
            "0  12-12-2019  THE ROOM               GURGAON  ...  Haryana   India\n",
            "1  12-12-2019            CUT AND STYLEGURGAON  ...  Haryana   India\n",
            "2  12-12-2019                   MUMUSOGURGAON  ...  Haryana   India\n",
            "3  12-12-2019  THE ROOM               GURGAON  ...  Haryana   India\n",
            "4  12-12-2019  THE ROOM               GURGAON  ...  Haryana   India\n",
            "\n",
            "[5 rows x 12 columns]\n"
          ],
          "name": "stdout"
        }
      ]
    },
    {
      "cell_type": "code",
      "metadata": {
        "colab": {
          "base_uri": "https://localhost:8080/"
        },
        "id": "luNk2chZ8z-C",
        "outputId": "6380f910-914d-4d44-d33a-72f7d944060f"
      },
      "source": [
        "# total number  of missing values in categorical data column\r\n",
        "print(copy_data.isnull().values.sum())"
      ],
      "execution_count": 91,
      "outputs": [
        {
          "output_type": "stream",
          "text": [
            "1587\n"
          ],
          "name": "stdout"
        }
      ]
    },
    {
      "cell_type": "code",
      "metadata": {
        "colab": {
          "base_uri": "https://localhost:8080/"
        },
        "id": "3jhi76mr9IuZ",
        "outputId": "c9bc8074-44c4-4f60-e938-43e2b1f486da"
      },
      "source": [
        "print(copy_data.isnull().sum())"
      ],
      "execution_count": 92,
      "outputs": [
        {
          "output_type": "stream",
          "text": [
            "Date                              0\n",
            "Description                       1\n",
            "InternationTransactionAmount      0\n",
            "Category                        607\n",
            "Amount                            0\n",
            "TransactionUserName               0\n",
            "TransactionType                   0\n",
            "IsoCurrency                       0\n",
            "Locality                        225\n",
            "City                            255\n",
            "State                           284\n",
            "Country                         215\n",
            "dtype: int64\n"
          ],
          "name": "stdout"
        }
      ]
    },
    {
      "cell_type": "code",
      "metadata": {
        "colab": {
          "base_uri": "https://localhost:8080/"
        },
        "id": "SojGukHaDjWv",
        "outputId": "7866a601-268b-4f40-937b-a40f6eec2f1f"
      },
      "source": [
        "# COUNTING THE OCCURRENCE OF EACH VALUES IN CATEGORY COLUMN\r\n",
        "print(copy_data['Category'].value_counts())"
      ],
      "execution_count": 93,
      "outputs": [
        {
          "output_type": "stream",
          "text": [
            "Cafe company                     147\n",
            "Video game                       125\n",
            "E-commerce company               105\n",
            "Company                           70\n",
            "Hotel brand                       40\n",
            "                                ... \n",
            "Song by Devi                       1\n",
            "Profession                         1\n",
            "Multi-level marketing company      1\n",
            "VFX company                        1\n",
            "Song by Chris Costanzo             1\n",
            "Name: Category, Length: 184, dtype: int64\n"
          ],
          "name": "stdout"
        }
      ]
    },
    {
      "cell_type": "markdown",
      "metadata": {
        "id": "5LPf34uiMaab"
      },
      "source": [
        "**Filling the missing values of category**"
      ]
    },
    {
      "cell_type": "code",
      "metadata": {
        "id": "g7ta2k6v9uFs"
      },
      "source": [
        "# filling the missing vlaues of category with top 3 frequent values of category\r\n",
        "copy_data['Category']=copy_data['Category'].fillna(copy_data['Category'].value_counts().index[0],limit=205)\r\n",
        "copy_data['Category']=copy_data['Category'].fillna(copy_data['Category'].value_counts().index[1],limit=202)\r\n",
        "copy_data['Category']=copy_data['Category'].fillna(copy_data['Category'].value_counts().index[2])\r\n"
      ],
      "execution_count": 94,
      "outputs": []
    },
    {
      "cell_type": "code",
      "metadata": {
        "colab": {
          "base_uri": "https://localhost:8080/"
        },
        "id": "5vhH7C_CCx4n",
        "outputId": "81dad93f-e5ae-4bd0-f981-47db46a520a8"
      },
      "source": [
        "print(copy_data.isnull().sum())"
      ],
      "execution_count": 95,
      "outputs": [
        {
          "output_type": "stream",
          "text": [
            "Date                              0\n",
            "Description                       1\n",
            "InternationTransactionAmount      0\n",
            "Category                          0\n",
            "Amount                            0\n",
            "TransactionUserName               0\n",
            "TransactionType                   0\n",
            "IsoCurrency                       0\n",
            "Locality                        225\n",
            "City                            255\n",
            "State                           284\n",
            "Country                         215\n",
            "dtype: int64\n"
          ],
          "name": "stdout"
        }
      ]
    },
    {
      "cell_type": "code",
      "metadata": {
        "colab": {
          "base_uri": "https://localhost:8080/"
        },
        "id": "WYrGQaviNy_a",
        "outputId": "65ac1f69-726c-4353-ca0f-0e0d4ebea6ce"
      },
      "source": [
        "# Ater filling the missing  data of Category by most top 3 frequent category\r\n",
        "print(copy_data['Category'].value_counts())"
      ],
      "execution_count": 96,
      "outputs": [
        {
          "output_type": "stream",
          "text": [
            "Cafe company                     352\n",
            "Video game                       327\n",
            "E-commerce company               305\n",
            "Company                           70\n",
            "Hotel brand                       40\n",
            "                                ... \n",
            "Song by Devi                       1\n",
            "Profession                         1\n",
            "Multi-level marketing company      1\n",
            "VFX company                        1\n",
            "Song by Chris Costanzo             1\n",
            "Name: Category, Length: 184, dtype: int64\n"
          ],
          "name": "stdout"
        }
      ]
    },
    {
      "cell_type": "code",
      "metadata": {
        "id": "nKHbk68JDCJ4"
      },
      "source": [
        "\r\n"
      ],
      "execution_count": 96,
      "outputs": []
    },
    {
      "cell_type": "markdown",
      "metadata": {
        "id": "5ew9ywnkO9qT"
      },
      "source": [
        "**NOW HANDLLING THE MISSING VALUES OF LOCALITY,CITY,STATE,COUNTRY**"
      ]
    },
    {
      "cell_type": "code",
      "metadata": {
        "id": "AY1Rl_O1Gifm"
      },
      "source": [
        "copy_data['Locality']=copy_data['Locality'].fillna(copy_data['Locality'].value_counts().index[0])\r\n",
        "copy_data['City']=copy_data['City'].fillna(copy_data['City'].value_counts().index[0])\r\n",
        "copy_data['State']=copy_data['State'].fillna(copy_data['State'].value_counts().index[0])\r\n",
        "copy_data['Country']=copy_data['Country'].fillna(copy_data['Country'].value_counts().index[0])\r\n",
        "\r\n"
      ],
      "execution_count": 97,
      "outputs": []
    },
    {
      "cell_type": "code",
      "metadata": {
        "colab": {
          "base_uri": "https://localhost:8080/"
        },
        "id": "o0v8QfpTGqa4",
        "outputId": "8c8d07eb-3b4a-4192-b729-311038111501"
      },
      "source": [
        "print(copy_data.isnull().sum())"
      ],
      "execution_count": 98,
      "outputs": [
        {
          "output_type": "stream",
          "text": [
            "Date                            0\n",
            "Description                     1\n",
            "InternationTransactionAmount    0\n",
            "Category                        0\n",
            "Amount                          0\n",
            "TransactionUserName             0\n",
            "TransactionType                 0\n",
            "IsoCurrency                     0\n",
            "Locality                        0\n",
            "City                            0\n",
            "State                           0\n",
            "Country                         0\n",
            "dtype: int64\n"
          ],
          "name": "stdout"
        }
      ]
    },
    {
      "cell_type": "markdown",
      "metadata": {
        "id": "37nFFgTVR-9V"
      },
      "source": [
        "**After treating the all categorical values of our dataset we find that in Description 1 value is missing we simply ignore or delete this value becuse this is not large impact but if we need to treat then we can do by folloeing code**"
      ]
    },
    {
      "cell_type": "code",
      "metadata": {
        "id": "UUk44aeoGx7y"
      },
      "source": [
        "copy_data['Description']=copy_data['Description'].fillna(copy_data['Description'].value_counts().index[0])"
      ],
      "execution_count": 99,
      "outputs": []
    },
    {
      "cell_type": "code",
      "metadata": {
        "id": "4Fk_JDOHHX7B"
      },
      "source": [
        ""
      ],
      "execution_count": 99,
      "outputs": []
    },
    {
      "cell_type": "markdown",
      "metadata": {
        "id": "EDoQrt-_dAFF"
      },
      "source": [
        "**NOW THERE IS NO NULL VALUE OR MISSING VALUE IN OUR DATASET**"
      ]
    },
    {
      "cell_type": "code",
      "metadata": {
        "colab": {
          "base_uri": "https://localhost:8080/"
        },
        "id": "CtKsRYr8TWPy",
        "outputId": "aa5b7885-7e3e-4ce8-9879-b86d1fc105df"
      },
      "source": [
        "# Now finally we are done with treatment of missing values in object datatype\r\n",
        "print(copy_data.isnull().sum())"
      ],
      "execution_count": 100,
      "outputs": [
        {
          "output_type": "stream",
          "text": [
            "Date                            0\n",
            "Description                     0\n",
            "InternationTransactionAmount    0\n",
            "Category                        0\n",
            "Amount                          0\n",
            "TransactionUserName             0\n",
            "TransactionType                 0\n",
            "IsoCurrency                     0\n",
            "Locality                        0\n",
            "City                            0\n",
            "State                           0\n",
            "Country                         0\n",
            "dtype: int64\n"
          ],
          "name": "stdout"
        }
      ]
    },
    {
      "cell_type": "markdown",
      "metadata": {
        "id": "I-9osxwpVETG"
      },
      "source": [
        "**now after dealing with objects type of data let looks other type of data**"
      ]
    },
    {
      "cell_type": "code",
      "metadata": {
        "colab": {
          "base_uri": "https://localhost:8080/"
        },
        "id": "TYOloe3YVXGK",
        "outputId": "7433b9f6-94c9-4617-b590-c2857e41c3d2"
      },
      "source": [
        "print(copy_data['Category'].value_counts())"
      ],
      "execution_count": 101,
      "outputs": [
        {
          "output_type": "stream",
          "text": [
            "Cafe company                     352\n",
            "Video game                       327\n",
            "E-commerce company               305\n",
            "Company                           70\n",
            "Hotel brand                       40\n",
            "                                ... \n",
            "Song by Devi                       1\n",
            "Profession                         1\n",
            "Multi-level marketing company      1\n",
            "VFX company                        1\n",
            "Song by Chris Costanzo             1\n",
            "Name: Category, Length: 184, dtype: int64\n"
          ],
          "name": "stdout"
        }
      ]
    },
    {
      "cell_type": "code",
      "metadata": {
        "colab": {
          "base_uri": "https://localhost:8080/"
        },
        "id": "sTDfF9jQl3Tb",
        "outputId": "71def234-fdb1-4ac3-a998-aa4a36c957e4"
      },
      "source": [
        "print(copy_data['Category'].unique().tolist())\r\n"
      ],
      "execution_count": 102,
      "outputs": [
        {
          "output_type": "stream",
          "text": [
            "['Video game', 'Occupation', 'Cafe company', 'E-commerce company', 'City in India', 'New York City borough', 'Plants', 'Hotel brand', 'Electronics retail company', 'Ridesharing company', '1988 film', 'Company', 'Indian actress', 'American television program', 'City in California', 'Band', 'Health care company', 'Language family', 'Fictional character', 'Restaurant company', 'City in New York', 'Cinema company', 'American minister', 'City in the island of Montreal', 'Song by Drew Seeley', 'American actor', 'Dish', 'Canadian model', '2015 film', 'Radio station', 'Animal', 'Fast food company', 'Political party', 'Retail company', 'Telecommunications company', 'Unit of speed', 'Novel by Jules Verne', 'Former Chief Minister of Uttar Pradesh', 'Corporation', 'Massif in Nepal', 'Dog breed', 'Insurance company', 'Italian region', 'Novel by Jane Austen', 'Coffeehouse company', 'Event', 'Fast food restaurant company', 'Department store company', 'Poem by Tulsidas', 'Indian researcher', 'Building function', 'Clothing retail company', 'International airline', 'Private club', 'Town in Hokkaido', 'American football team', 'Heavy bomber', 'Field of study', 'Politician', 'Algae', 'Online food ordering company', 'Federal agency', 'Comedian', 'Indian actor', 'Entertainment company', 'Mobile phone', 'City in Algeria', 'Place of worship in Kiev', 'Hospitality company', 'Ethno-linguistic group', 'American actress', 'Pasta', 'Fashion company', 'Album by The Beach Boys', 'Cocktail', 'Architectural style', 'Chemical compound', 'Hotel company', 'State of India', 'Canadian singer-songwriter', 'Railway company', 'Capital of the USA', 'Book by Alan Beaulieu', 'Former President of South Africa', 'Hardware store company', 'Food', 'Multinational conglomerate company', 'Novel by Tamsyn Muir', 'Song by Queen', 'Production company', 'Book by Eric Carle', 'Broadcast genre', 'Television series', 'Airline', 'Cosmetics company', 'Mobile network provider company', 'Newspaper', 'Profession', 'Hotel chain', 'Theatre in Taunton', 'American sitcom', 'Book by A. C. Bhaktivedanta Swami Prabhupada', 'VFX company', 'Member of parliament', 'Operation', 'Nightclub', 'Indian television actor', 'Film director', 'US State', '1993 film', 'German singer', 'Legislator', 'Continent', 'Former Governor General of Canada', '1976 film', 'Song', 'Indian film actor', 'Indian language', 'Baseball team', 'City in Spain', 'Board of education in India', 'Book by Jean Ferris', 'Indian revolutionary', 'Car manufacturer', 'Book by Tavleen Singh', 'American-German model', 'Fungus', 'American singer-songwriter', 'Street in London', 'Song by 4Joy', 'Indian playback singer', 'Hypermarket company', 'American director', 'Unit of time', 'Palace in Jaipur', 'Retail chain company', '2018 film', 'Multi-level marketing company', 'Sports club', '1984 film', 'Book by Rudyard Kipling', 'Indian union territory', '1974 film', 'Discount store company', '2017 film', 'Book by Thomas Sowell', '2014 film', 'Guerrilla war', 'State-owned enterprise', 'Indian drama series', 'Chemical element', 'American film actress', '1967 film', 'Song by Devi', 'Television channel', 'Landform', 'Novel by Jonathan Maberry', 'Festivity', 'Broadcasting service', 'Furniture retail company', 'Footballer', 'Visual art form', '1989 film', 'Automotive marque', 'Song by Chris Costanzo', 'Film series', 'Oceanic trench', 'Malaysian footballer', 'Technology company', 'Song by Rhye', 'King', 'Indian businessman', 'Song by The Botherers', 'Indian teacher', 'Guru', 'Indian cricketer', 'Television company', 'Agency', 'Medication', '2001 film', 'Supermarket company', 'Novel by Lewis Carroll', 'Actor', 'City in Japan']\n"
          ],
          "name": "stdout"
        }
      ]
    },
    {
      "cell_type": "markdown",
      "metadata": {
        "id": "xxACLkMCUmOw"
      },
      "source": [
        "**Tagging the new Key to the category value into new column Expenses Type using Dictionary**"
      ]
    },
    {
      "cell_type": "code",
      "metadata": {
        "id": "ESIM4eVEVxxP"
      },
      "source": [
        "dict1={\r\n",
        "    \"Food\":[\"Cafe company\",\"Dish\",\"Fast food company\",\"Italian region\",'Coffeehouse company','Fast food restaurant company','Online food ordering company',\r\n",
        "            \"Pasta\",\"Cocktail\",\"Food\",'Restaurant company','Heavy bomber','Continent'],\r\n",
        "\r\n",
        "\r\n",
        "    \"Outdoor stay\":[\"Hotel chain\",'Hotel brand','Town in Hokkaido','City in Algeria','Place of worship in Kiev','Palace in Jaipur','Street in London',\r\n",
        "                    'Hospitality company','Hotel company','City in Spain','City in Japan'],\r\n",
        "\r\n",
        "\r\n",
        "    \"Entertainment\": ['1988 film', 'Company','American director','2018 film', 'Actor','1984 film','2001 film','Indian drama series','1974 film',\r\n",
        "                     '2017 film','2014 film', 'Guerrilla war', 'American television program','Band','Fictional character','1989 film', 'Automotive marque',\r\n",
        "                     'Song by Chris Costanzo', 'Film series', 'Oceanic trench','Cinema company','Song by Drew Seeley',\r\n",
        "                     'American actor','Canadian model','2015 film','Radio station','Comedian','Indian actor','Entertainment company'\r\n",
        "                     ,'American actress','Album by The Beach Boys','Nightclub','Canadian singer-songwriter','Song by Queen','Television series',\r\n",
        "                     'Indian television actor','Indian actress',\r\n",
        "                     'Theatre in Taunton','VFX company','Film director','1993 film','American singer-songwriter','German singer','1976 film',\r\n",
        "                     'Song by 4Joy', 'Indian playback singer','American-German model',  'American film actress', '1967 film', 'Song by Devi', \r\n",
        "                     'Television channel', 'Landform',\r\n",
        "                     'Song', 'Indian film actor','Song by Rhye','Television company', 'King', 'Indian businessman', 'Song by The Botherers'],\r\n",
        "\r\n",
        "    \"Shopping\":[\"E-commerce company\",'Retail chain company','Electronics retail company','Furniture retail company','Discount store company',\r\n",
        "                'Hypermarket company','Hardware store company','US State','Cosmetics company','Retail company','Department store company',\r\n",
        "                'Clothing retail company','Fashion company'],\r\n",
        "               \r\n",
        "\r\n",
        "    \"Flight\":['City in India','New York City borough','City in California','City in New York','City in the island of Montreal','Massif in Nepal',\r\n",
        "              'International airline','Capital of the USA','Airline', 'Indian union territory'],\r\n",
        "               \r\n",
        "\r\n",
        "    \"Cab\":['Unit of speed','Railway company','American sitcom','Unit of time'],\r\n",
        "\r\n",
        "\r\n",
        "    \"Livelyhood\":['Occupation','Profession', 'Company','Technology company','Supermarket company','Corporation','State-owned enterprise','Operation','Event',\r\n",
        "                  'Multi-level marketing company','Building function','Car manufacturer','Production company','Private club','Ethno-linguistic group',\r\n",
        "                  'Multinational conglomerate company'],\r\n",
        "               \r\n",
        "\r\n",
        "    \"Environment\":['Plants','Animal','Dog breed','Algae'],\r\n",
        "\r\n",
        "\r\n",
        "    \"Health safety\":['Health care company','Insurance company','Fungus','Agency', 'Medication'],\r\n",
        "\r\n",
        "\r\n",
        "    \"Education\":[\"Language family\",'Novel by Jules Verne','Chemical element','Novel by Jane Austen','Poem by Tulsidas','Indian researcher','Field of study',\r\n",
        "                 'Chemical compound','Book by Rudyard Kipling',\r\n",
        "                 'Architectural style','Book by Alan Beaulieu','Novel by Tamsyn Muir','Book by Eric Carle','Newspaper','Indian language',\r\n",
        "                 'Book by A. C. Bhaktivedanta Swami Prabhupada','Board of education in India', 'Book by Jean Ferris', 'Indian revolutionary',\r\n",
        "                 'Book by Tavleen Singh','Book by Thomas Sowell','Novel by Jonathan Maberry', 'Festivity','Indian teacher', 'Guru','Novel by Lewis Carroll'],\r\n",
        "               \r\n",
        "\r\n",
        "    \"Politics\":['American minister','Political party','Former Chief Minister of Uttar Pradesh','Politician','Legislator','Former President of South Africa',\r\n",
        "                'Former Governor General of Canada','Member of parliament'],\r\n",
        "               \r\n",
        "\r\n",
        "    \"TeleCommunication\":['Telecommunications company','Mobile phone','Broadcast genre','Mobile network provider company','Broadcasting service'],\r\n",
        "\r\n",
        "    \r\n",
        "    \"Bank\": ['State of India','Federal agency'],\r\n",
        "\r\n",
        "    \"Sports\":['Sports club','Footballer', 'Visual art form','Malaysian footballer','Indian cricketer',\"Video game\",'Baseball team','American football team',\r\n",
        "              'Ridesharing company']\r\n",
        "  }"
      ],
      "execution_count": 103,
      "outputs": []
    },
    {
      "cell_type": "markdown",
      "metadata": {
        "id": "9sZh8ux_kfIr"
      },
      "source": [
        "**Adding new value in Expense Type column**"
      ]
    },
    {
      "cell_type": "code",
      "metadata": {
        "id": "MM_ZX8iCuDDc"
      },
      "source": [
        "def create_expense_type_column(input_dict,column_data):\r\n",
        "  list1=[]\r\n",
        " \r\n",
        "  for i in range(len(column_data)):\r\n",
        "    for key,value in input_dict.items():\r\n",
        "      \r\n",
        "      if column_data[i] in value:\r\n",
        "        list1.append(key)\r\n",
        "        \r\n",
        "        break\r\n",
        "    \r\n",
        "  return list1\r\n"
      ],
      "execution_count": 104,
      "outputs": []
    },
    {
      "cell_type": "code",
      "metadata": {
        "colab": {
          "base_uri": "https://localhost:8080/"
        },
        "id": "a4j3SqXCadkc",
        "outputId": "003c286e-09d2-4a91-fe43-59e9d090a964"
      },
      "source": [
        "\r\n",
        "expenses=create_expense_type_column(dict1,copy_data['Category'])\r\n",
        "print(expenses)"
      ],
      "execution_count": 105,
      "outputs": [
        {
          "output_type": "stream",
          "text": [
            "['Sports', 'Livelyhood', 'Food', 'Sports', 'Sports', 'Shopping', 'Flight', 'Food', 'Shopping', 'Shopping', 'Food', 'Food', 'Flight', 'Environment', 'Food', 'Food', 'Outdoor stay', 'Food', 'Food', 'Food', 'Food', 'Food', 'Sports', 'Shopping', 'Food', 'Food', 'Food', 'Food', 'Sports', 'Sports', 'Entertainment', 'Entertainment', 'Food', 'Entertainment', 'Sports', 'Food', 'Entertainment', 'Sports', 'Flight', 'Sports', 'Food', 'Entertainment', 'Food', 'Entertainment', 'Sports', 'Sports', 'Food', 'Food', 'Outdoor stay', 'Health safety', 'Education', 'Food', 'Food', 'Shopping', 'Food', 'Food', 'Entertainment', 'Entertainment', 'Food', 'Food', 'Food', 'Shopping', 'Shopping', 'Food', 'Entertainment', 'Food', 'Shopping', 'Entertainment', 'Sports', 'Food', 'Food', 'Flight', 'Food', 'Entertainment', 'Politics', 'Food', 'Food', 'Flight', 'Food', 'Food', 'Politics', 'Food', 'Entertainment', 'Entertainment', 'Entertainment', 'Food', 'Food', 'Entertainment', 'Food', 'Food', 'Entertainment', 'Shopping', 'Food', 'Sports', 'Sports', 'Food', 'Sports', 'Entertainment', 'Entertainment', 'Sports', 'Entertainment', 'Flight', 'Sports', 'Sports', 'Entertainment', 'Sports', 'Outdoor stay', 'Food', 'Entertainment', 'Livelyhood', 'Food', 'Sports', 'Food', 'Food', 'Food', 'Food', 'Food', 'Environment', 'Food', 'Food', 'Food', 'Food', 'Food', 'Food', 'Sports', 'Sports', 'Politics', 'Entertainment', 'Shopping', 'Sports', 'Sports', 'Sports', 'Food', 'Livelyhood', 'Food', 'Shopping', 'Shopping', 'Food', 'Food', 'Food', 'TeleCommunication', 'Cab', 'Education', 'Politics', 'Entertainment', 'Shopping', 'Food', 'Entertainment', 'Entertainment', 'Food', 'Food', 'Livelyhood', 'Food', 'Food', 'Food', 'Flight', 'Flight', 'Entertainment', 'TeleCommunication', 'Environment', 'Entertainment', 'Health safety', 'Entertainment', 'Outdoor stay', 'Food', 'Food', 'Shopping', 'Food', 'Food', 'Shopping', 'Food', 'Shopping', 'Entertainment', 'Food', 'Food', 'Food', 'Entertainment', 'Food', 'Food', 'Food', 'Food', 'Food', 'Shopping', 'Shopping', 'Shopping', 'Food', 'Food', 'Education', 'Food', 'Food', 'Food', 'Food', 'Livelyhood', 'Livelyhood', 'Flight', 'Livelyhood', 'Shopping', 'Entertainment', 'Food', 'Entertainment', 'Entertainment', 'Shopping', 'Education', 'Food', 'Food', 'Education', 'Entertainment', 'Food', 'Food', 'Sports', 'Shopping', 'Livelyhood', 'Livelyhood', 'Livelyhood', 'Entertainment', 'Food', 'Food', 'Livelyhood', 'Livelyhood', 'Shopping', 'Food', 'Shopping', 'Flight', 'Flight', 'Livelyhood', 'Food', 'Outdoor stay', 'Food', 'Food', 'Food', 'Shopping', 'Food', 'Shopping', 'Entertainment', 'Livelyhood', 'Food', 'Food', 'Food', 'Food', 'Food', 'Sports', 'Food', 'Education', 'Food', 'Politics', 'Food', 'Entertainment', 'Food', 'Flight', 'Outdoor stay', 'Food', 'Food', 'Food', 'Environment', 'Food', 'Food', 'Food', 'Bank', 'Shopping', 'Outdoor stay', 'Food', 'Food', 'Entertainment', 'Livelyhood', 'Food', 'Food', 'Food', 'Food', 'Food', 'Food', 'Entertainment', 'Food', 'Entertainment', 'Shopping', 'Food', 'Food', 'Shopping', 'Entertainment', 'Food', 'Food', 'Food', 'Food', 'Food', 'Entertainment', 'Food', 'Flight', 'Food', 'Outdoor stay', 'Food', 'Food', 'Environment', 'TeleCommunication', 'Outdoor stay', 'Food', 'Food', 'Food', 'Food', 'Shopping', 'Shopping', 'Food', 'Food', 'Food', 'Flight', 'Flight', 'Flight', 'Flight', 'Outdoor stay', 'Food', 'Food', 'Food', 'Shopping', 'Shopping', 'Food', 'Shopping', 'Food', 'Food', 'Entertainment', 'Food', 'Food', 'Food', 'Outdoor stay', 'Food', 'Outdoor stay', 'Outdoor stay', 'Food', 'Food', 'Food', 'Food', 'Food', 'Sports', 'Food', 'Food', 'Food', 'Food', 'Food', 'Outdoor stay', 'Food', 'Food', 'Entertainment', 'Entertainment', 'Food', 'Food', 'Outdoor stay', 'Food', 'Sports', 'Livelyhood', 'Environment', 'Entertainment', 'Food', 'Flight', 'Flight', 'Livelyhood', 'Food', 'Outdoor stay', 'Food', 'Shopping', 'Food', 'Shopping', 'Food', 'Food', 'Food', 'Food', 'Food', 'Politics', 'Food', 'Food', 'Food', 'Entertainment', 'Shopping', 'Food', 'Food', 'Shopping', 'Food', 'Shopping', 'Shopping', 'Food', 'Food', 'Entertainment', 'Livelyhood', 'Outdoor stay', 'Food', 'Food', 'Food', 'Food', 'Food', 'Food', 'Food', 'Food', 'Food', 'Food', 'Food', 'Food', 'Shopping', 'Food', 'Entertainment', 'Food', 'Food', 'Food', 'Sports', 'Sports', 'Flight', 'Food', 'Food', 'Food', 'Education', 'Food', 'Shopping', 'Health safety', 'Education', 'Food', 'Shopping', 'Food', 'Outdoor stay', 'Food', 'Food', 'Food', 'Food', 'Food', 'Food', 'Bank', 'Entertainment', 'TeleCommunication', 'Food', 'Food', 'Food', 'Food', 'Food', 'Food', 'Food', 'Cab', 'Food', 'Food', 'Entertainment', 'Food', 'Food', 'Food', 'Food', 'Food', 'Cab', 'Cab', 'Cab', 'Food', 'Shopping', 'Cab', 'Cab', 'Food', 'Flight', 'Food', 'Food', 'Education', 'Food', 'Politics', 'Shopping', 'Cab', 'Cab', 'Shopping', 'Cab', 'TeleCommunication', 'Education', 'Cab', 'Flight', 'Food', 'Entertainment', 'Livelyhood', 'Entertainment', 'Entertainment', 'Entertainment', 'Food', 'Sports', 'Livelyhood', 'Entertainment', 'Politics', 'Entertainment', 'Politics', 'Entertainment', 'Food', 'Shopping', 'Education', 'Education', 'Entertainment', 'Food', 'Food', 'Sports', 'Livelyhood', 'Food', 'Flight', 'TeleCommunication', 'Education', 'Sports', 'Flight', 'Education', 'Food', 'Entertainment', 'Food', 'Livelyhood', 'Food', 'Outdoor stay', 'Sports', 'Food', 'Food', 'Environment', 'Sports', 'Outdoor stay', 'Food', 'Food', 'Shopping', 'Food', 'Food', 'Outdoor stay', 'Food', 'Food', 'Education', 'Food', 'Food', 'Food', 'Food', 'Food', 'Food', 'TeleCommunication', 'Shopping', 'Food', 'Entertainment', 'Sports', 'Food', 'Entertainment', 'Education', 'Livelyhood', 'Shopping', 'Environment', 'Sports', 'Shopping', 'Shopping', 'Food', 'Sports', 'Sports', 'Sports', 'Outdoor stay', 'Sports', 'Entertainment', 'Food', 'Livelyhood', 'Flight', 'Shopping', 'Entertainment', 'Sports', 'Flight', 'Shopping', 'Shopping', 'Sports', 'TeleCommunication', 'Education', 'Food', 'Livelyhood', 'Sports', 'Food', 'Food', 'Food', 'Entertainment', 'Outdoor stay', 'Entertainment', 'Food', 'Food', 'Sports', 'Entertainment', 'Shopping', 'Food', 'Shopping', 'Outdoor stay', 'Sports', 'Sports', 'Sports', 'Flight', 'Sports', 'Sports', 'Shopping', 'Sports', 'Sports', 'Shopping', 'Cab', 'Education', 'Sports', 'Shopping', 'Sports', 'Flight', 'Entertainment', 'Sports', 'Entertainment', 'Politics', 'Livelyhood', 'Entertainment', 'Food', 'Food', 'Shopping', 'Entertainment', 'Sports', 'Sports', 'Entertainment', 'Food', 'Sports', 'Livelyhood', 'Entertainment', 'Sports', 'Sports', 'Sports', 'Outdoor stay', 'Sports', 'Outdoor stay', 'Sports', 'Sports', 'Shopping', 'Sports', 'Politics', 'Sports', 'Entertainment', 'Sports', 'Sports', 'Outdoor stay', 'Entertainment', 'Sports', 'Sports', 'Entertainment', 'Food', 'Sports', 'Food', 'Entertainment', 'Entertainment', 'Sports', 'Sports', 'Food', 'Sports', 'Sports', 'Sports', 'Food', 'Flight', 'Flight', 'Entertainment', 'Entertainment', 'Food', 'Entertainment', 'Sports', 'Sports', 'Sports', 'Sports', 'Sports', 'Sports', 'Food', 'Environment', 'Outdoor stay', 'Entertainment', 'Sports', 'Food', 'Shopping', 'Food', 'Food', 'Food', 'Shopping', 'Food', 'Livelyhood', 'Entertainment', 'Livelyhood', 'Sports', 'Food', 'Sports', 'Entertainment', 'Entertainment', 'Sports', 'Sports', 'Politics', 'Flight', 'Sports', 'TeleCommunication', 'Education', 'Education', 'Politics', 'Sports', 'Sports', 'Sports', 'Entertainment', 'Shopping', 'Entertainment', 'Sports', 'Sports', 'Entertainment', 'Sports', 'Sports', 'Shopping', 'Entertainment', 'Livelyhood', 'Food', 'Sports', 'Politics', 'Sports', 'Entertainment', 'Food', 'Flight', 'Sports', 'Education', 'Entertainment', 'Sports', 'Education', 'Entertainment', 'Sports', 'Sports', 'Sports', 'Food', 'Sports', 'Livelyhood', 'Sports', 'Entertainment', 'Sports', 'Entertainment', 'Education', 'Education', 'Livelyhood', 'Flight', 'Sports', 'Sports', 'Livelyhood', 'Outdoor stay', 'Education', 'Education', 'Education', 'Sports', 'Sports', 'Livelyhood', 'Shopping', 'Education', 'Food', 'Sports', 'Sports', 'Shopping', 'Sports', 'Education', 'Entertainment', 'Entertainment', 'Education', 'Sports', 'Sports', 'Livelyhood', 'Livelyhood', 'Education', 'Shopping', 'Outdoor stay', 'Sports', 'Outdoor stay', 'Sports', 'Sports', 'Sports', 'Sports', 'Politics', 'Sports', 'Livelyhood', 'Entertainment', 'Education', 'Outdoor stay', 'Sports', 'Sports', 'Politics', 'Sports', 'Sports', 'Sports', 'Outdoor stay', 'Entertainment', 'Politics', 'Politics', 'Sports', 'Politics', 'Shopping', 'Shopping', 'Politics', 'Sports', 'Sports', 'Sports', 'Shopping', 'Sports', 'Livelyhood', 'Sports', 'Entertainment', 'Sports', 'Sports', 'Shopping', 'Politics', 'Shopping', 'Shopping', 'Sports', 'Entertainment', 'Entertainment', 'Shopping', 'Sports', 'Livelyhood', 'Outdoor stay', 'Shopping', 'Food', 'Education', 'Shopping', 'Outdoor stay', 'Food', 'Sports', 'Sports', 'Sports', 'Sports', 'Food', 'Shopping', 'Food', 'Entertainment', 'Sports', 'Sports', 'Sports', 'Flight', 'Food', 'Food', 'Outdoor stay', 'Sports', 'Environment', 'TeleCommunication', 'Entertainment', 'Sports', 'Sports', 'Food', 'Food', 'Food', 'Sports', 'Sports', 'Sports', 'TeleCommunication', 'Food', 'Food', 'Sports', 'Livelyhood', 'Sports', 'Sports', 'Food', 'Sports', 'Sports', 'Flight', 'Food', 'Sports', 'Entertainment', 'Sports', 'Sports', 'Sports', 'Sports', 'Sports', 'Entertainment', 'Sports', 'Food', 'Sports', 'Outdoor stay', 'Livelyhood', 'Food', 'Flight', 'Entertainment', 'Sports', 'Sports', 'Sports', 'Sports', 'Entertainment', 'Shopping', 'Entertainment', 'Sports', 'Sports', 'Shopping', 'Food', 'Food', 'Entertainment', 'Shopping', 'Shopping', 'Food', 'Shopping', 'Food', 'Food', 'Food', 'Food', 'Sports', 'Sports', 'Shopping', 'Health safety', 'Sports', 'Sports', 'Sports', 'Entertainment', 'Sports', 'Food', 'Environment', 'Livelyhood', 'Entertainment', 'Entertainment', 'Sports', 'Politics', 'Politics', 'Politics', 'Education', 'Food', 'Sports', 'Outdoor stay', 'Food', 'Sports', 'Shopping', 'Food', 'Entertainment', 'Sports', 'Food', 'Sports', 'Sports', 'Livelyhood', 'Sports', 'Food', 'Livelyhood', 'Sports', 'Entertainment', 'Shopping', 'Food', 'Shopping', 'Entertainment', 'Shopping', 'Flight', 'Food', 'Sports', 'Sports', 'Sports', 'Sports', 'Livelyhood', 'Sports', 'Food', 'Shopping', 'Shopping', 'Food', 'Entertainment', 'Shopping', 'Sports', 'Sports', 'Cab', 'Entertainment', 'Livelyhood', 'Entertainment', 'Sports', 'Food', 'Sports', 'Sports', 'Outdoor stay', 'Food', 'Food', 'Politics', 'Food', 'Food', 'Shopping', 'Shopping', 'Food', 'Flight', 'Flight', 'Food', 'Food', 'Sports', 'Livelyhood', 'Entertainment', 'Sports', 'TeleCommunication', 'Education', 'Livelyhood', 'Entertainment', 'TeleCommunication', 'Sports', 'Livelyhood', 'Sports', 'Sports', 'Food', 'Shopping', 'Shopping', 'Sports', 'Sports', 'Food', 'Entertainment', 'Entertainment', 'Sports', 'Food', 'Entertainment', 'Sports', 'Shopping', 'Food', 'Shopping', 'Shopping', 'Sports', 'Sports', 'Shopping', 'Food', 'Shopping', 'Food', 'Sports', 'Shopping', 'Shopping', 'Food', 'Sports', 'Shopping', 'Sports', 'Sports', 'Sports', 'Sports', 'Sports', 'Sports', 'Food', 'Food', 'Shopping', 'Flight', 'Food', 'Livelyhood', 'Sports', 'Cab', 'Food', 'Entertainment', 'Entertainment', 'Livelyhood', 'Food', 'Entertainment', 'Food', 'Shopping', 'Food', 'Sports', 'Sports', 'Education', 'Sports', 'Sports', 'Sports', 'Entertainment', 'Sports', 'Sports', 'Livelyhood', 'Shopping', 'Sports', 'Flight', 'Sports', 'Sports', 'Sports', 'Livelyhood', 'Shopping', 'Entertainment', 'Livelyhood', 'Sports', 'Entertainment', 'Sports', 'Sports', 'Shopping', 'Sports', 'Sports', 'Sports', 'Sports', 'Food', 'Sports', 'Entertainment', 'Entertainment', 'Sports', 'Entertainment', 'Cab', 'Food', 'Sports', 'Shopping', 'Sports', 'Livelyhood', 'Flight', 'Entertainment', 'Sports', 'Entertainment', 'Sports', 'Sports', 'Entertainment', 'Entertainment', 'Sports', 'Sports', 'Education', 'Sports', 'Shopping', 'Education', 'Education', 'Shopping', 'Sports', 'Sports', 'Sports', 'Education', 'Entertainment', 'Sports', 'Sports', 'Sports', 'Shopping', 'Shopping', 'Sports', 'Sports', 'Sports', 'Sports', 'Cab', 'Entertainment', 'Shopping', 'Shopping', 'Sports', 'Sports', 'Sports', 'Sports', 'Sports', 'Flight', 'Shopping', 'Livelyhood', 'Sports', 'Shopping', 'Politics', 'Sports', 'Entertainment', 'Sports', 'Sports', 'Sports', 'Sports', 'Sports', 'Sports', 'Sports', 'Sports', 'Sports', 'Outdoor stay', 'Shopping', 'Shopping', 'Sports', 'Sports', 'Shopping', 'Sports', 'Entertainment', 'Livelyhood', 'Sports', 'Livelyhood', 'Entertainment', 'Shopping', 'Shopping', 'Sports', 'Sports', 'Food', 'Sports', 'Environment', 'Shopping', 'Entertainment', 'Sports', 'Food', 'Shopping', 'Outdoor stay', 'Entertainment', 'Sports', 'Sports', 'Environment', 'Food', 'Flight', 'Livelyhood', 'Shopping', 'Food', 'Sports', 'Sports', 'Food', 'Sports', 'Sports', 'Livelyhood', 'Entertainment', 'Sports', 'Sports', 'Food', 'Food', 'Sports', 'Shopping', 'Sports', 'Sports', 'Shopping', 'Sports', 'Flight', 'Sports', 'Sports', 'Sports', 'Outdoor stay', 'Sports', 'Sports', 'Food', 'Flight', 'Education', 'Sports', 'Sports', 'Sports', 'Sports', 'Entertainment', 'Sports', 'Sports', 'Sports', 'Sports', 'Livelyhood', 'Sports', 'Sports', 'Sports', 'Sports', 'Sports', 'Sports', 'Entertainment', 'Shopping', 'Entertainment', 'Shopping', 'Sports', 'Sports', 'Shopping', 'Shopping', 'Shopping', 'Outdoor stay', 'Shopping', 'Shopping', 'Outdoor stay', 'Shopping', 'Shopping', 'Entertainment', 'Shopping', 'Shopping', 'Shopping', 'Shopping', 'Shopping', 'Shopping', 'Shopping', 'Shopping', 'Shopping', 'Shopping', 'Sports', 'Shopping', 'Entertainment', 'Livelyhood', 'Food', 'Food', 'Entertainment', 'Food', 'Food', 'Entertainment', 'Food', 'Sports', 'Livelyhood', 'Entertainment', 'Shopping', 'Shopping', 'Shopping', 'Shopping', 'Outdoor stay', 'Entertainment', 'Sports', 'Entertainment', 'Shopping', 'Shopping', 'Shopping', 'Shopping', 'Outdoor stay', 'Shopping', 'Shopping', 'Entertainment', 'Shopping', 'Shopping', 'Food', 'Entertainment', 'Entertainment', 'Shopping', 'Shopping', 'Shopping', 'Shopping', 'Entertainment', 'Livelyhood', 'Shopping', 'Shopping', 'Shopping', 'Shopping', 'Shopping', 'Shopping', 'Sports', 'Shopping', 'Shopping', 'Flight', 'Sports', 'Sports', 'Outdoor stay', 'Shopping', 'Sports', 'Shopping', 'Shopping', 'Sports', 'Sports', 'Shopping', 'Entertainment', 'Shopping', 'Shopping', 'Entertainment', 'Outdoor stay', 'Outdoor stay', 'Shopping', 'Shopping', 'Shopping', 'Shopping', 'Shopping', 'Shopping', 'Shopping', 'Shopping', 'Entertainment', 'Food', 'Sports', 'Shopping', 'Outdoor stay', 'Shopping', 'Shopping', 'Environment', 'Shopping', 'Outdoor stay', 'Shopping', 'Entertainment', 'Shopping', 'Entertainment', 'Food', 'Food', 'Shopping', 'Shopping', 'Shopping', 'Shopping', 'Food', 'Sports', 'Shopping', 'Entertainment', 'Food', 'Entertainment', 'Livelyhood', 'Shopping', 'Shopping', 'Shopping', 'Shopping', 'Education', 'Shopping', 'Shopping', 'Shopping', 'Entertainment', 'Shopping', 'Shopping', 'Shopping', 'Shopping', 'Shopping', 'Shopping', 'Shopping', 'Shopping', 'Shopping', 'Shopping', 'Livelyhood', 'Shopping', 'Shopping', 'Politics', 'Shopping', 'Shopping', 'Shopping', 'Entertainment', 'Shopping', 'Shopping', 'Shopping', 'Shopping', 'Livelyhood', 'Shopping', 'Education', 'Shopping', 'Shopping', 'Shopping', 'Livelyhood', 'Sports', 'Entertainment', 'Shopping', 'Sports', 'Sports', 'Shopping', 'Sports', 'Shopping', 'Shopping', 'Shopping', 'Shopping', 'Sports', 'Sports', 'Shopping', 'Shopping', 'Shopping', 'Sports', 'Outdoor stay', 'Entertainment', 'Shopping', 'Shopping', 'Sports', 'Shopping', 'Shopping', 'Shopping', 'Shopping', 'Outdoor stay', 'Shopping', 'Shopping', 'Shopping', 'Shopping', 'TeleCommunication', 'Entertainment', 'Shopping', 'Sports', 'Sports', 'Shopping', 'Shopping', 'Entertainment', 'Shopping', 'Entertainment', 'Shopping', 'Entertainment', 'Education', 'Entertainment', 'Shopping', 'Shopping', 'Shopping', 'Livelyhood', 'Shopping', 'Entertainment', 'Entertainment', 'Shopping', 'Food', 'Shopping', 'Entertainment', 'Shopping', 'Entertainment', 'Entertainment', 'Shopping', 'Shopping', 'TeleCommunication', 'Shopping', 'Shopping', 'Entertainment', 'Shopping', 'Sports', 'Shopping', 'Shopping', 'Shopping', 'Shopping', 'Shopping', 'Shopping', 'Shopping', 'Shopping', 'Shopping', 'Sports', 'Shopping', 'Shopping', 'Shopping', 'Shopping', 'Livelyhood', 'Shopping', 'Shopping', 'Shopping', 'Shopping', 'Flight', 'Cab', 'Cab', 'Shopping', 'Shopping', 'Flight', 'Livelyhood', 'Cab', 'Food', 'Entertainment', 'Cab', 'Shopping', 'Food', 'Food', 'Food', 'Food', 'Entertainment', 'Flight', 'Livelyhood', 'Food', 'Food', 'Education', 'Shopping', 'Food', 'Shopping', 'Shopping', 'Food', 'Entertainment', 'Food', 'Entertainment', 'Sports', 'Food', 'Entertainment', 'Shopping', 'Shopping', 'Food', 'Food', 'Flight', 'Food', 'Entertainment', 'Entertainment', 'Entertainment', 'Food', 'Shopping', 'Livelyhood', 'Food', 'Food', 'Food', 'TeleCommunication', 'Food', 'Food', 'Food', 'Shopping', 'Entertainment', 'Shopping', 'Entertainment', 'Livelyhood', 'Livelyhood', 'Entertainment', 'Outdoor stay', 'Shopping', 'Food', 'Education', 'Food', 'Food', 'Food', 'Food', 'Flight', 'Entertainment', 'Food', 'Livelyhood', 'Food', 'Entertainment', 'Shopping', 'Shopping', 'Sports', 'TeleCommunication', 'Shopping', 'Flight', 'Food', 'Shopping', 'Education', 'Food', 'Education', 'Flight', 'Education', 'Food', 'Livelyhood', 'Shopping', 'Education', 'Shopping', 'Food', 'Food', 'Shopping', 'Shopping', 'Education', 'Food', 'Shopping', 'Politics', 'Food', 'Food', 'Food', 'Food', 'Environment', 'Environment', 'Shopping', 'Food', 'Food', 'Sports', 'Food', 'Shopping', 'Shopping', 'Shopping', 'Food', 'Sports', 'Cab', 'Food', 'Sports', 'Education', 'Flight', 'Education', 'Entertainment', 'Entertainment', 'Food', 'Education', 'Entertainment', 'Entertainment', 'Entertainment', 'Shopping', 'Entertainment', 'Food', 'Food', 'Shopping', 'Shopping', 'Shopping', 'Food', 'Shopping', 'Food', 'Shopping', 'Flight', 'Food', 'Shopping', 'Shopping', 'Shopping', 'Shopping', 'Shopping', 'Shopping', 'Education', 'Food', 'Shopping', 'Food', 'Entertainment', 'Shopping', 'Shopping', 'Food', 'Flight', 'Shopping', 'Food', 'Entertainment', 'Shopping', 'Shopping', 'Education', 'Shopping', 'Food', 'Entertainment', 'Livelyhood', 'Food', 'Entertainment', 'Outdoor stay', 'Food', 'Shopping', 'Shopping', 'Health safety', 'Shopping', 'Shopping', 'Shopping', 'Shopping', 'Food', 'Food', 'Environment', 'Food', 'Entertainment', 'Health safety', 'Entertainment', 'Entertainment', 'Entertainment', 'Livelyhood', 'TeleCommunication', 'Food', 'TeleCommunication', 'Shopping', 'Shopping', 'Shopping', 'Shopping', 'Shopping', 'Entertainment', 'Education', 'Shopping', 'Shopping', 'Food', 'Livelyhood', 'Shopping', 'Shopping', 'Shopping', 'Shopping', 'Shopping', 'Entertainment', 'Entertainment', 'Shopping', 'Shopping', 'Shopping', 'Shopping', 'Shopping', 'Livelyhood', 'Shopping', 'TeleCommunication', 'Education', 'Entertainment', 'Shopping', 'Shopping', 'Shopping', 'Education', 'Shopping', 'Shopping', 'Shopping', 'Food', 'Shopping', 'Shopping', 'Food', 'Food', 'Food', 'Shopping', 'Shopping', 'Entertainment', 'Food', 'Food', 'Shopping', 'Food', 'Shopping', 'Entertainment', 'Shopping', 'Shopping', 'Food', 'Livelyhood', 'Food', 'Flight', 'Livelyhood', 'Food', 'Sports', 'Food', 'Livelyhood', 'Shopping', 'Shopping', 'Outdoor stay', 'Food', 'Shopping', 'Livelyhood', 'Shopping', 'Shopping', 'Flight', 'Shopping', 'Food', 'Food', 'Sports', 'Sports', 'Flight', 'Food', 'Shopping', 'Food', 'Entertainment', 'Shopping', 'Shopping', 'Outdoor stay', 'Livelyhood', 'Sports', 'Livelyhood', 'Food', 'Food', 'Food', 'Flight', 'Sports', 'Shopping', 'Food', 'Shopping', 'Shopping', 'Livelyhood', 'Livelyhood', 'Food', 'Entertainment', 'Outdoor stay', 'Food', 'Shopping', 'Shopping', 'Food', 'Shopping', 'Shopping', 'Shopping', 'TeleCommunication', 'Food', 'Food', 'Flight', 'Food', 'Shopping', 'Shopping', 'Shopping', 'Politics']\n"
          ],
          "name": "stdout"
        }
      ]
    },
    {
      "cell_type": "code",
      "metadata": {
        "colab": {
          "base_uri": "https://localhost:8080/"
        },
        "id": "oPYRV3B8cSQM",
        "outputId": "662d6787-bc24-4ade-bd0c-a8fe4489fdc1"
      },
      "source": [
        "#our old data with 12 column\r\n",
        "new_data1=copy_data\r\n",
        "\r\n",
        "print(new_data1)"
      ],
      "execution_count": 106,
      "outputs": [
        {
          "output_type": "stream",
          "text": [
            "            Date                     Description  ...        State Country\n",
            "0     12-12-2019  THE ROOM               GURGAON  ...      Haryana   India\n",
            "1     12-12-2019            CUT AND STYLEGURGAON  ...      Haryana   India\n",
            "2     12-12-2019                   MUMUSOGURGAON  ...      Haryana   India\n",
            "3     12-12-2019  THE ROOM               GURGAON  ...      Haryana   India\n",
            "4     12-12-2019  THE ROOM               GURGAON  ...      Haryana   India\n",
            "...          ...                             ...  ...          ...     ...\n",
            "1743  07-07-2019        CAFE COFFEE DAYILD TRADE  ...      Haryana   India\n",
            "1744  07-07-2019  SHOPPERS STOP LTD      GURGAON  ...      Haryana   India\n",
            "1745  11-07-2019                   INDIGOGURGAON  ...      Haryana   India\n",
            "1746  11-07-2019                   INDIGOGURGAON  ...      Haryana   India\n",
            "1747  11-07-2019       TATA INDICOM-DOCOMOMUMBAI  ...  Maharashtra   India\n",
            "\n",
            "[1748 rows x 12 columns]\n"
          ],
          "name": "stdout"
        }
      ]
    },
    {
      "cell_type": "markdown",
      "metadata": {
        "id": "KvxsxBc-nS9I"
      },
      "source": [
        "**New column Expenses adding in last column now the size of data become 1748x13**"
      ]
    },
    {
      "cell_type": "code",
      "metadata": {
        "colab": {
          "base_uri": "https://localhost:8080/"
        },
        "id": "jEbYPfhFdNHw",
        "outputId": "045f2d22-9b30-465b-8980-2e4bd552a2ec"
      },
      "source": [
        "new_data1['Expenses Type']=expenses\r\n",
        "print(new_data1.shape)"
      ],
      "execution_count": 107,
      "outputs": [
        {
          "output_type": "stream",
          "text": [
            "(1748, 13)\n"
          ],
          "name": "stdout"
        }
      ]
    },
    {
      "cell_type": "code",
      "metadata": {
        "colab": {
          "base_uri": "https://localhost:8080/"
        },
        "id": "-BzxNP2peQ3p",
        "outputId": "09f28a7b-a43f-4dea-c1a6-0460d142942c"
      },
      "source": [
        "print(new_data1['Expenses Type'].unique())"
      ],
      "execution_count": 108,
      "outputs": [
        {
          "output_type": "stream",
          "text": [
            "['Sports' 'Livelyhood' 'Food' 'Shopping' 'Flight' 'Environment'\n",
            " 'Outdoor stay' 'Entertainment' 'Health safety' 'Education' 'Politics'\n",
            " 'TeleCommunication' 'Cab' 'Bank']\n"
          ],
          "name": "stdout"
        }
      ]
    },
    {
      "cell_type": "code",
      "metadata": {
        "id": "WfvmkmeVG7nm"
      },
      "source": [
        "#changing the negative value into positive of Amount column\r\n",
        "new_data1['Amount']=new_data1['Amount'].abs()\r\n"
      ],
      "execution_count": 109,
      "outputs": []
    },
    {
      "cell_type": "code",
      "metadata": {
        "colab": {
          "base_uri": "https://localhost:8080/"
        },
        "id": "YHXTUhLrMYvV",
        "outputId": "36e96fce-179f-4da3-8a23-88c1567fe98e"
      },
      "source": [
        "print(new_data1['Amount'].sum())"
      ],
      "execution_count": 110,
      "outputs": [
        {
          "output_type": "stream",
          "text": [
            "8434505.51\n"
          ],
          "name": "stdout"
        }
      ]
    },
    {
      "cell_type": "markdown",
      "metadata": {
        "id": "-oXTs9xLozbV"
      },
      "source": [
        "**Save our cleaned or modified data into new csv file**"
      ]
    },
    {
      "cell_type": "code",
      "metadata": {
        "id": "rapKEUUpMe5q"
      },
      "source": [
        "new_data1.to_csv(\"final_output.csv\",index=None)\r\n"
      ],
      "execution_count": 111,
      "outputs": []
    },
    {
      "cell_type": "markdown",
      "metadata": {
        "id": "UAEWFFtFpTqF"
      },
      "source": [
        "**Now get sum and average of Amount Spending on different types expenses**"
      ]
    },
    {
      "cell_type": "code",
      "metadata": {
        "id": "esarsXKkOmw2"
      },
      "source": [
        "occur_expense_type=new_data1.groupby('Expenses Type').Amount.nunique()"
      ],
      "execution_count": 112,
      "outputs": []
    },
    {
      "cell_type": "code",
      "metadata": {
        "colab": {
          "base_uri": "https://localhost:8080/"
        },
        "id": "nVz8BQyYedhZ",
        "outputId": "b2aee19d-39d4-417a-fc05-8fada22adeed"
      },
      "source": [
        "print(occur_expense_type)"
      ],
      "execution_count": 113,
      "outputs": [
        {
          "output_type": "stream",
          "text": [
            "Expenses Type\n",
            "Bank                   2\n",
            "Cab                   19\n",
            "Education             57\n",
            "Entertainment        182\n",
            "Environment           16\n",
            "Flight                58\n",
            "Food                 348\n",
            "Health safety          6\n",
            "Livelyhood            81\n",
            "Outdoor stay          40\n",
            "Politics              24\n",
            "Shopping             308\n",
            "Sports               261\n",
            "TeleCommunication     17\n",
            "Name: Amount, dtype: int64\n"
          ],
          "name": "stdout"
        }
      ]
    },
    {
      "cell_type": "code",
      "metadata": {
        "colab": {
          "base_uri": "https://localhost:8080/"
        },
        "id": "E0cQ1az3pOV3",
        "outputId": "c98f6f46-73e7-43e4-d2b6-5012a4fadf8e"
      },
      "source": [
        "#calculate sum and mean of each type of expeses using groupby\r\n",
        "data_mean=new_data1.groupby('Expenses Type').Amount.mean()\r\n",
        "print(data_mean)"
      ],
      "execution_count": 114,
      "outputs": [
        {
          "output_type": "stream",
          "text": [
            "Expenses Type\n",
            "Bank                  1370.000000\n",
            "Cab                   5207.567143\n",
            "Education             2027.325254\n",
            "Entertainment         4484.214047\n",
            "Environment           1317.176471\n",
            "Flight                4238.006613\n",
            "Food                  4553.810537\n",
            "Health safety        13951.465000\n",
            "Livelyhood            1092.038090\n",
            "Outdoor stay          4558.756552\n",
            "Politics              1448.227586\n",
            "Shopping              5559.219738\n",
            "Sports                6716.632529\n",
            "TeleCommunication     1114.429048\n",
            "Name: Amount, dtype: float64\n"
          ],
          "name": "stdout"
        }
      ]
    },
    {
      "cell_type": "code",
      "metadata": {
        "colab": {
          "base_uri": "https://localhost:8080/"
        },
        "id": "pOLcn8c2fdfi",
        "outputId": "dfd2d4ac-abb7-4894-aab1-a3f4bb53b215"
      },
      "source": [
        "data_sum1=new_data1.groupby('Expenses Type').Amount.sum()\r\n",
        "print(data_sum1.keys())\r\n",
        "print(data_sum1.value_counts)\r\n"
      ],
      "execution_count": 115,
      "outputs": [
        {
          "output_type": "stream",
          "text": [
            "Index(['Bank', 'Cab', 'Education', 'Entertainment', 'Environment', 'Flight',\n",
            "       'Food', 'Health safety', 'Livelyhood', 'Outdoor stay', 'Politics',\n",
            "       'Shopping', 'Sports', 'TeleCommunication'],\n",
            "      dtype='object', name='Expenses Type')\n",
            "<bound method IndexOpsMixin.value_counts of Expenses Type\n",
            "Bank                    2740.00\n",
            "Cab                   109358.91\n",
            "Education             119612.19\n",
            "Entertainment         964106.02\n",
            "Environment            22392.00\n",
            "Flight                262756.41\n",
            "Food                 2035553.31\n",
            "Health safety          83708.79\n",
            "Livelyhood             97191.39\n",
            "Outdoor stay          264407.88\n",
            "Politics               41998.60\n",
            "Shopping             2123621.94\n",
            "Sports               2283655.06\n",
            "TeleCommunication      23403.01\n",
            "Name: Amount, dtype: float64>\n"
          ],
          "name": "stdout"
        }
      ]
    },
    {
      "cell_type": "code",
      "metadata": {
        "colab": {
          "base_uri": "https://localhost:8080/"
        },
        "id": "4ruKXrMuwz--",
        "outputId": "027e8386-71bf-4e28-8b0c-71e470996bd7"
      },
      "source": [
        "df=pd.DataFrame(new_data1)\r\n",
        "print(df['Expenses Type'].unique())"
      ],
      "execution_count": 116,
      "outputs": [
        {
          "output_type": "stream",
          "text": [
            "['Sports' 'Livelyhood' 'Food' 'Shopping' 'Flight' 'Environment'\n",
            " 'Outdoor stay' 'Entertainment' 'Health safety' 'Education' 'Politics'\n",
            " 'TeleCommunication' 'Cab' 'Bank']\n"
          ],
          "name": "stdout"
        }
      ]
    },
    {
      "cell_type": "markdown",
      "metadata": {
        "id": "wzy308sEu3uH"
      },
      "source": [
        "**Plotting the Bar and pie chart for mean or average of our Expenses type in our dataset**"
      ]
    },
    {
      "cell_type": "code",
      "metadata": {
        "colab": {
          "base_uri": "https://localhost:8080/",
          "height": 576
        },
        "id": "-ROLRd6QwpfX",
        "outputId": "238c15b2-a184-4d78-9902-3f28472dfb21"
      },
      "source": [
        "import matplotlib.pyplot as plt\r\n",
        "plt.figure(figsize=(20,10))\r\n",
        "plt.title(\"Mean variation of Expenses Type \")\r\n",
        "\r\n",
        "\r\n",
        "plt.bar(data_mean.keys(),data_mean,width=0.5,color='g')\r\n",
        "plt.xlabel(\"Expense Type\")\r\n",
        "plt.ylabel(\" Mean Amount\")\r\n",
        "plt.show()"
      ],
      "execution_count": 117,
      "outputs": [
        {
          "output_type": "display_data",
          "data": {
            "image/png": "[encoded data removed]",
            "text/plain": [
              "<Figure size 1440x720 with 1 Axes>"
            ]
          },
          "metadata": {
            "tags": [],
            "needs_background": "light"
          }
        }
      ]
    },
    {
      "cell_type": "code",
      "metadata": {
        "id": "iYg-PX0qw972",
        "colab": {
          "base_uri": "https://localhost:8080/",
          "height": 433
        },
        "outputId": "3702bc59-13ee-4555-ff24-303b8ae0d85e"
      },
      "source": [
        "import matplotlib.pyplot as plt\r\n",
        "explode=(0,0,0,0,0,0.5,.3,0,0,0,0,0.4,0,0)\r\n",
        "plt.figure(figsize=(6,15))\r\n",
        "plt.pie(data_mean,labels=data_mean.keys(),autopct='%1.1f%%',\r\n",
        "        shadow=True,explode=explode)\r\n",
        "plt.title(\"AVERAGE  OF  EXPENSES \",loc='right',pad=15)\r\n",
        "\r\n",
        "plt.show()\r\n"
      ],
      "execution_count": 118,
      "outputs": [
        {
          "output_type": "display_data",
          "data": {
            "image/png": "[encoded data removed]",
            "text/plain": [
              "<Figure size 432x1080 with 1 Axes>"
            ]
          },
          "metadata": {
            "tags": []
          }
        }
      ]
    },
    {
      "cell_type": "code",
      "metadata": {
        "id": "JTUQF-RoWb1f"
      },
      "source": [
        ""
      ],
      "execution_count": 118,
      "outputs": []
    },
    {
      "cell_type": "markdown",
      "metadata": {
        "id": "Vg-UTZJavmuY"
      },
      "source": [
        "**NOW WE GOING TO PLOT SUM OF EXPENSES IN BOTH BAR GRAPH AND PIE CHART**"
      ]
    },
    {
      "cell_type": "code",
      "metadata": {
        "colab": {
          "base_uri": "https://localhost:8080/",
          "height": 584
        },
        "id": "Z1WAPyBHv12z",
        "outputId": "0f0759f1-4b3a-41b6-9704-4286620ddb1f"
      },
      "source": [
        "plt.figure(figsize=(20,10))\r\n",
        "plt.title(\"Sum variation of Expenses Type \")\r\n",
        "\r\n",
        "\r\n",
        "plt.bar(data_sum1.keys(),data_sum1,width=0.5,color='g')\r\n",
        "plt.xlabel(\"Expense Type\")\r\n",
        "plt.ylabel(\" Mean Amount\")\r\n",
        "plt.show()"
      ],
      "execution_count": 119,
      "outputs": [
        {
          "output_type": "display_data",
          "data": {
            "image/png": "[encoded data removed]",
            "text/plain": [
              "<Figure size 1440x720 with 1 Axes>"
            ]
          },
          "metadata": {
            "tags": [],
            "needs_background": "light"
          }
        }
      ]
    },
    {
      "cell_type": "markdown",
      "metadata": {
        "id": "PeE2zDruIpjW"
      },
      "source": [
        ""
      ]
    },
    {
      "cell_type": "code",
      "metadata": {
        "colab": {
          "base_uri": "https://localhost:8080/",
          "height": 600
        },
        "id": "BmFP5RUcwPuO",
        "outputId": "b015b59f-e277-4d3a-867c-a4466ce9939a"
      },
      "source": [
        "#pie chart\r\n",
        "explode=(0,0,0,0,0,0,0.1,0,0,0,0,0.1,0,0)\r\n",
        "plt.figure(figsize=(10,10))\r\n",
        "plt.pie(data_sum1,labels=data_sum1.keys(),autopct='%1.1f%%',\r\n",
        "        shadow=True,explode=explode)\r\n",
        "plt.title(\"Sum  OF  EXPENSES \",loc='right',pad=15)\r\n",
        "\r\n",
        "plt.show()\r\n"
      ],
      "execution_count": 120,
      "outputs": [
        {
          "output_type": "display_data",
          "data": {
            "image/png": "[encoded data removed]",
            "text/plain": [
              "<Figure size 720x720 with 1 Axes>"
            ]
          },
          "metadata": {
            "tags": []
          }
        }
      ]
    },
    {
      "cell_type": "markdown",
      "metadata": {
        "id": "McYGHcb4Ipxw"
      },
      "source": [
        "#**1.By wathing the pie graph all is clear that how much of money in our data in which type of category Now we can easily answer that the person is impusive shopper and  also lthe peron is Foody and love to eat Food**"
      ]
    },
    {
      "cell_type": "code",
      "metadata": {
        "colab": {
          "base_uri": "https://localhost:8080/"
        },
        "id": "9rz8CgL1yGab",
        "outputId": "dc20e658-cfd8-40cb-9d0f-177fae5e5f0c"
      },
      "source": [
        "#converting the data into order of date wise\r\n",
        "data2=new_data1\r\n",
        "print(data2)\r\n"
      ],
      "execution_count": 121,
      "outputs": [
        {
          "output_type": "stream",
          "text": [
            "            Date                     Description  ...  Country Expenses Type\n",
            "0     12-12-2019  THE ROOM               GURGAON  ...    India        Sports\n",
            "1     12-12-2019            CUT AND STYLEGURGAON  ...    India    Livelyhood\n",
            "2     12-12-2019                   MUMUSOGURGAON  ...    India          Food\n",
            "3     12-12-2019  THE ROOM               GURGAON  ...    India        Sports\n",
            "4     12-12-2019  THE ROOM               GURGAON  ...    India        Sports\n",
            "...          ...                             ...  ...      ...           ...\n",
            "1743  07-07-2019        CAFE COFFEE DAYILD TRADE  ...    India          Food\n",
            "1744  07-07-2019  SHOPPERS STOP LTD      GURGAON  ...    India      Shopping\n",
            "1745  11-07-2019                   INDIGOGURGAON  ...    India      Shopping\n",
            "1746  11-07-2019                   INDIGOGURGAON  ...    India      Shopping\n",
            "1747  11-07-2019       TATA INDICOM-DOCOMOMUMBAI  ...    India      Politics\n",
            "\n",
            "[1748 rows x 13 columns]\n"
          ],
          "name": "stdout"
        }
      ]
    },
    {
      "cell_type": "code",
      "metadata": {
        "id": "wB2fXz_43vDX"
      },
      "source": [
        ""
      ],
      "execution_count": 121,
      "outputs": []
    },
    {
      "cell_type": "markdown",
      "metadata": {
        "id": "FfNgVHbt27h0"
      },
      "source": [
        "#**Converting date column from objects type to datetime type and then sorting all data according to date in ascending order**"
      ]
    },
    {
      "cell_type": "code",
      "metadata": {
        "colab": {
          "base_uri": "https://localhost:8080/"
        },
        "id": "7j-mmE8YyiFs",
        "outputId": "e8cec718-1e36-4035-c9f3-0597a2abe0e5"
      },
      "source": [
        "data2['Date']=pd.to_datetime(data2['Date'],dayfirst=True)\r\n",
        "print(data2['Date'].dtype)\r\n",
        "data2=data2.sort_values(by=['Date'])\r\n",
        "print(data2.shape)\r\n",
        "print(data2.tail(30))"
      ],
      "execution_count": 122,
      "outputs": [
        {
          "output_type": "stream",
          "text": [
            "datetime64[ns]\n",
            "(1748, 13)\n",
            "          Date  ...  Expenses Type\n",
            "760 2020-03-19  ...         Sports\n",
            "761 2020-03-20  ...   Outdoor stay\n",
            "762 2020-03-20  ...  Entertainment\n",
            "764 2020-03-21  ...       Politics\n",
            "763 2020-03-21  ...       Politics\n",
            "766 2020-03-21  ...       Politics\n",
            "765 2020-03-21  ...         Sports\n",
            "767 2020-03-22  ...       Shopping\n",
            "768 2020-03-22  ...       Shopping\n",
            "770 2020-03-23  ...         Sports\n",
            "769 2020-03-23  ...       Politics\n",
            "771 2020-03-24  ...         Sports\n",
            "772 2020-03-25  ...         Sports\n",
            "773 2020-03-25  ...       Shopping\n",
            "774 2020-03-26  ...         Sports\n",
            "775 2020-03-28  ...     Livelyhood\n",
            "776 2020-03-29  ...         Sports\n",
            "777 2020-03-29  ...  Entertainment\n",
            "778 2020-03-30  ...         Sports\n",
            "779 2020-03-31  ...         Sports\n",
            "780 2020-04-01  ...       Shopping\n",
            "781 2020-04-01  ...       Politics\n",
            "782 2020-04-03  ...       Shopping\n",
            "783 2020-04-04  ...       Shopping\n",
            "784 2020-04-04  ...         Sports\n",
            "785 2020-04-05  ...  Entertainment\n",
            "786 2020-04-05  ...  Entertainment\n",
            "787 2020-04-06  ...       Shopping\n",
            "788 2020-04-07  ...         Sports\n",
            "789 2020-04-07  ...     Livelyhood\n",
            "\n",
            "[30 rows x 13 columns]\n"
          ],
          "name": "stdout"
        }
      ]
    },
    {
      "cell_type": "markdown",
      "metadata": {
        "id": "s31s377wClRz"
      },
      "source": [
        "#**Remove the '#' from the following code to save in data in sorted order by date to new csv file**"
      ]
    },
    {
      "cell_type": "code",
      "metadata": {
        "id": "Is3y_Xiq3zCP"
      },
      "source": [
        "#data2.to_csv(\"final_output.csv\",index=None)"
      ],
      "execution_count": 123,
      "outputs": []
    },
    {
      "cell_type": "markdown",
      "metadata": {
        "id": "vdoU0CoS30Kk"
      },
      "source": [
        "#**1Q: what was my  last month  bill? Answer is bellow**"
      ]
    },
    {
      "cell_type": "code",
      "metadata": {
        "id": "NMAgwXE9W2LS",
        "colab": {
          "base_uri": "https://localhost:8080/"
        },
        "outputId": "84d37ddd-30a5-4abd-d839-a5ded826adac"
      },
      "source": [
        "#CALCULATING LAST GIVE DAYS DAYS BILL\r\n",
        "def calculate_last_one_month_exp(input_data,n):\r\n",
        "  month_exp=data2[-n:].groupby('Expenses Type').Amount.sum()\r\n",
        "  return month_exp\r\n",
        "total_day_for_bill=90\r\n",
        "n_days_bill=calculate_last_one_month_exp(data2,total_day_for_bill)\r\n",
        "print(n_days_bill)"
      ],
      "execution_count": 124,
      "outputs": [
        {
          "output_type": "stream",
          "text": [
            "Expenses Type\n",
            "Education          2160.98\n",
            "Entertainment     59158.75\n",
            "Environment        2597.00\n",
            "Flight             2058.00\n",
            "Food               4366.85\n",
            "Livelyhood         9636.40\n",
            "Outdoor stay       3261.09\n",
            "Politics          12191.00\n",
            "Shopping          21779.36\n",
            "Sports           463503.21\n",
            "Name: Amount, dtype: float64\n"
          ],
          "name": "stdout"
        }
      ]
    },
    {
      "cell_type": "code",
      "metadata": {
        "id": "CyM5eyT2AVrp"
      },
      "source": [
        ""
      ],
      "execution_count": 124,
      "outputs": []
    },
    {
      "cell_type": "code",
      "metadata": {
        "id": "W_DaNITyMD1s",
        "colab": {
          "base_uri": "https://localhost:8080/"
        },
        "outputId": "e133516c-a6bf-40f7-e40e-a37e3d33028c"
      },
      "source": [
        "print(\"Last days FOOD bill: \",n_days_bill.Food)"
      ],
      "execution_count": 125,
      "outputs": [
        {
          "output_type": "stream",
          "text": [
            "Last days FOOD bill:  4366.85\n"
          ],
          "name": "stdout"
        }
      ]
    },
    {
      "cell_type": "code",
      "metadata": {
        "id": "MkIKu_Aipa7f"
      },
      "source": [
        ""
      ],
      "execution_count": 125,
      "outputs": []
    },
    {
      "cell_type": "markdown",
      "metadata": {
        "id": "IG0X-wuHBf57"
      },
      "source": [
        "#**FROM GRAPH OF OUR NEW DATA WE CAN FIND NUBER OF ANSWER OF THE QESTIONS -------------------------END OF ASSIGNMENT OF ONE BANC --------CODE WRITTEN BY SANDEEP YADAV, FOR ANY QUERY RELATED TO CODE YOU CAN CONATCT ME AT MY MAIL: sandeep18498@gmail.com**"
      ]
    },
    {
      "cell_type": "code",
      "metadata": {
        "id": "kkPyh2dUCEdD"
      },
      "source": [
        ""
      ],
      "execution_count": 125,
      "outputs": []
    }
  ]
}